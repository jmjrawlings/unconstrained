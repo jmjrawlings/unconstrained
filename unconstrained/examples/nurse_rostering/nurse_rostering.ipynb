{
 "cells": [
  {
   "cell_type": "markdown",
   "metadata": {},
   "source": []
  },
  {
   "cell_type": "code",
   "execution_count": 1,
   "metadata": {},
   "outputs": [
    {
     "data": {
      "text/markdown": [
       "# Nurse Rostering\n",
       "\n",
       "Taken from https://developers.google.com/optimization/scheduling/employee_scheduling\n"
      ],
      "text/plain": [
       "<IPython.core.display.Markdown object>"
      ]
     },
     "metadata": {},
     "output_type": "display_data"
    }
   ],
   "source": [
    "from IPython.display import Markdown, display\n",
    "display(Markdown(\"README.md\"))"
   ]
  },
  {
   "cell_type": "code",
   "execution_count": 2,
   "metadata": {},
   "outputs": [
    {
     "ename": "ImportError",
     "evalue": "attempted relative import with no known parent package",
     "output_type": "error",
     "traceback": [
      "\u001b[0;31m---------------------------------------------------------------------------\u001b[0m",
      "\u001b[0;31mImportError\u001b[0m                               Traceback (most recent call last)",
      "\u001b[1;32m/workspaces/hashcode/unconstrained/examples/nurse_rostering/nurse_rostering.ipynb Cell 3'\u001b[0m in \u001b[0;36m<cell line: 1>\u001b[0;34m()\u001b[0m\n\u001b[0;32m----> <a href='vscode-notebook-cell://dev-container%2B5c5c77736c245c5562756e747532302e30344c54535c686f6d655c68726b6e5c70726f6a656374735c68617368636f6465/workspaces/hashcode/unconstrained/examples/nurse_rostering/nurse_rostering.ipynb#ch0000001vscode-remote?line=0'>1</a>\u001b[0m \u001b[39mfrom\u001b[39;00m \u001b[39mmodel\u001b[39;00m \u001b[39mimport\u001b[39;00m \u001b[39m*\u001b[39m\n",
      "File \u001b[0;32m/workspaces/hashcode/unconstrained/examples/nurse_rostering/model.py:1\u001b[0m, in \u001b[0;36m<module>\u001b[0;34m\u001b[0m\n\u001b[0;32m----> <a href='file:///workspaces/hashcode/unconstrained/examples/nurse_rostering/model.py?line=0'>1</a>\u001b[0m \u001b[39mfrom\u001b[39;00m \u001b[39m.\u001b[39;00m\u001b[39m.\u001b[39;00m\u001b[39m.\u001b[39;00m\u001b[39mprelude\u001b[39;00m \u001b[39mimport\u001b[39;00m \u001b[39m*\u001b[39m\n\u001b[1;32m      <a href='file:///workspaces/hashcode/unconstrained/examples/nurse_rostering/model.py?line=2'>3</a>\u001b[0m \u001b[39m@attr\u001b[39m\u001b[39m.\u001b[39ms(\u001b[39m*\u001b[39m\u001b[39m*\u001b[39mATTRS)\n\u001b[1;32m      <a href='file:///workspaces/hashcode/unconstrained/examples/nurse_rostering/model.py?line=3'>4</a>\u001b[0m \u001b[39mclass\u001b[39;00m \u001b[39mNurse\u001b[39;00m(HasId):\n\u001b[1;32m      <a href='file:///workspaces/hashcode/unconstrained/examples/nurse_rostering/model.py?line=4'>5</a>\u001b[0m     \u001b[39m# Fields\u001b[39;00m\n\u001b[1;32m      <a href='file:///workspaces/hashcode/unconstrained/examples/nurse_rostering/model.py?line=5'>6</a>\u001b[0m     nurse_id : \u001b[39mint\u001b[39m \u001b[39m=\u001b[39m int_field()\n",
      "\u001b[0;31mImportError\u001b[0m: attempted relative import with no known parent package"
     ]
    }
   ],
   "source": [
    "from model import *"
   ]
  },
  {
   "cell_type": "code",
   "execution_count": null,
   "metadata": {},
   "outputs": [],
   "source": []
  }
 ],
 "metadata": {
  "interpreter": {
   "hash": "23393d2575091a37cff0d0e9e7479591a295495b26c3b2ebf9b64da572e02d85"
  },
  "kernelspec": {
   "display_name": "Python 3.9.5 ('venv')",
   "language": "python",
   "name": "python3"
  },
  "language_info": {
   "codemirror_mode": {
    "name": "ipython",
    "version": 3
   },
   "file_extension": ".py",
   "mimetype": "text/x-python",
   "name": "python",
   "nbconvert_exporter": "python",
   "pygments_lexer": "ipython3",
   "version": "3.9.5"
  },
  "orig_nbformat": 4
 },
 "nbformat": 4,
 "nbformat_minor": 2
}
