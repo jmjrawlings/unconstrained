{
 "cells": [
  {
   "cell_type": "code",
   "execution_count": 1,
   "metadata": {},
   "outputs": [
    {
     "data": {
      "text/markdown": [
       "# Project Planning\n",
       "\n",
       "Taken from [Google Hash Code 2022 - Mentorship and Teamwork](\n",
       "https://codingcompetitions.withgoogle.com/hashcode/round/00000000008caae7)\n",
       "\n",
       "\n",
       "## Run Tests\n",
       "- `pytest tests/test_mentorship`\n"
      ],
      "text/plain": [
       "<IPython.core.display.Markdown object>"
      ]
     },
     "metadata": {},
     "output_type": "display_data"
    }
   ],
   "source": [
    "from IPython.display import Markdown, display\n",
    "display(Markdown(\"README.md\"))"
   ]
  },
  {
   "cell_type": "code",
   "execution_count": 2,
   "metadata": {},
   "outputs": [
    {
     "ename": "ModuleNotFoundError",
     "evalue": "No module named 'prelude'",
     "output_type": "error",
     "traceback": [
      "\u001b[0;31m---------------------------------------------------------------------------\u001b[0m",
      "\u001b[0;31mModuleNotFoundError\u001b[0m                       Traceback (most recent call last)",
      "\u001b[1;32m/workspaces/hashcode/unconstrained/examples/project_planning/project_planning.ipynb Cell 2'\u001b[0m in \u001b[0;36m<cell line: 1>\u001b[0;34m()\u001b[0m\n\u001b[0;32m----> <a href='vscode-notebook-cell://dev-container%2B5c5c77736c245c5562756e747532302e30344c54535c686f6d655c68726b6e5c70726f6a656374735c68617368636f6465/workspaces/hashcode/unconstrained/examples/project_planning/project_planning.ipynb#ch0000001vscode-remote?line=0'>1</a>\u001b[0m \u001b[39mfrom\u001b[39;00m \u001b[39mmodel\u001b[39;00m \u001b[39mimport\u001b[39;00m \u001b[39m*\u001b[39m\n",
      "File \u001b[0;32m/workspaces/hashcode/unconstrained/examples/project_planning/model.py:1\u001b[0m, in \u001b[0;36m<module>\u001b[0;34m\u001b[0m\n\u001b[0;32m----> <a href='file:///workspaces/hashcode/unconstrained/examples/project_planning/model.py?line=0'>1</a>\u001b[0m \u001b[39mfrom\u001b[39;00m \u001b[39mprelude\u001b[39;00m \u001b[39mimport\u001b[39;00m \u001b[39m*\u001b[39m\n\u001b[1;32m      <a href='file:///workspaces/hashcode/unconstrained/examples/project_planning/model.py?line=1'>2</a>\u001b[0m \u001b[39mfrom\u001b[39;00m \u001b[39maltair\u001b[39;00m \u001b[39mimport\u001b[39;00m Chart\n\u001b[1;32m      <a href='file:///workspaces/hashcode/unconstrained/examples/project_planning/model.py?line=3'>4</a>\u001b[0m input_dir  : Path  \u001b[39m=\u001b[39m to_existing_filepath(\u001b[39m__file__\u001b[39m)\u001b[39m.\u001b[39mparent \u001b[39m/\u001b[39m \u001b[39m'\u001b[39m\u001b[39minput\u001b[39m\u001b[39m'\u001b[39m\n",
      "\u001b[0;31mModuleNotFoundError\u001b[0m: No module named 'prelude'"
     ]
    }
   ],
   "source": [
    "from model import *"
   ]
  },
  {
   "cell_type": "code",
   "execution_count": null,
   "metadata": {},
   "outputs": [],
   "source": []
  }
 ],
 "metadata": {
  "kernelspec": {
   "display_name": "Python 3 (ipykernel)",
   "language": "python",
   "name": "python3"
  },
  "language_info": {
   "codemirror_mode": {
    "name": "ipython",
    "version": 3
   },
   "file_extension": ".py",
   "mimetype": "text/x-python",
   "name": "python",
   "nbconvert_exporter": "python",
   "pygments_lexer": "ipython3",
   "version": "3.9.5"
  }
 },
 "nbformat": 4,
 "nbformat_minor": 4
}
